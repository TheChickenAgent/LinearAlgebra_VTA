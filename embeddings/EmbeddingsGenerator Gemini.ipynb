{
 "cells": [
  {
   "cell_type": "markdown",
   "id": "b6872720",
   "metadata": {},
   "source": [
    "## Imports"
   ]
  },
  {
   "cell_type": "code",
   "execution_count": 1,
   "id": "edac0519",
   "metadata": {},
   "outputs": [],
   "source": [
    "import os\n",
    "import json\n",
    "from dotenv import load_dotenv\n",
    "from langchain_chroma import Chroma\n",
    "from langchain_core.documents import Document"
   ]
  },
  {
   "cell_type": "markdown",
   "id": "20e0bccc",
   "metadata": {},
   "source": [
    "## Load data"
   ]
  },
  {
   "cell_type": "code",
   "execution_count": 2,
   "id": "bc33a6d3",
   "metadata": {},
   "outputs": [
    {
     "name": "stdout",
     "output_type": "stream",
     "text": [
      "The 10 topics are:\n",
      "Systems of linear equations, Gaussian elimination\n",
      "-Vector equations, Matrix\n",
      "-Solution sets and Linear independence\n",
      "-Linear Transformations, Matrix algebra\n",
      "-The Inverse of a Matrix\n",
      "-Determinants, Perspective projections\n",
      "-Vector Spaces\n",
      "-Eigenvalues and Eigenvectors\n",
      "-Diagonalization\n",
      "-Orthogonality and Symmetric Matrices\n"
     ]
    }
   ],
   "source": [
    "def load_json(filename: str) -> dict:\n",
    "    \"\"\"\n",
    "    Load the JSON file.\n",
    "\n",
    "    Args:\n",
    "        filename (str): name of the file to load\n",
    "\n",
    "    Returns:\n",
    "        dict: json file content as a dictionary\n",
    "    \"\"\"\n",
    "    with open(filename, 'r') as f:\n",
    "        file = json.load(f)\n",
    "    return file\n",
    "\n",
    "topics = load_json('topics.json')['Topics']\n",
    "print(f\"The {len(topics)} topics are:\")\n",
    "print(\"\\n-\".join(topics.keys()))"
   ]
  },
  {
   "cell_type": "markdown",
   "id": "b7a08dfe",
   "metadata": {},
   "source": [
    "## Preprocess data"
   ]
  },
  {
   "cell_type": "code",
   "execution_count": 3,
   "id": "1f5a3910",
   "metadata": {},
   "outputs": [],
   "source": [
    "def get_section_name(section: str) -> str:\n",
    "    \"\"\"\n",
    "    Get the section name from the document.\n",
    "\n",
    "    Args:\n",
    "        section (str): number of the section\n",
    "\n",
    "    Returns:\n",
    "        str: looked up section name\n",
    "    \"\"\"\n",
    "    sections = load_json('section_names.json')\n",
    "    return sections[section]"
   ]
  },
  {
   "cell_type": "code",
   "execution_count": 4,
   "id": "54227d43",
   "metadata": {},
   "outputs": [],
   "source": [
    "def get_pages_string(pages: list) -> str:\n",
    "    \"\"\"\n",
    "    Get the string representation of the pages.\n",
    "\n",
    "    Args:\n",
    "        pages (list): list of pages\n",
    "\n",
    "    Returns:\n",
    "        str: string representation of the pages\n",
    "    \"\"\"\n",
    "    return \" and \".join([str(i) for i in pages])"
   ]
  },
  {
   "cell_type": "code",
   "execution_count": 5,
   "id": "a5f2de1a",
   "metadata": {},
   "outputs": [],
   "source": [
    "def preprocess_metadata(metadata: dict) -> dict:\n",
    "    \"\"\"\n",
    "    Preprocess the metadata to make it more readable.\n",
    "\n",
    "    Args:\n",
    "        metadata (dict): metadata of the document\n",
    "\n",
    "    Returns:\n",
    "        dict: preprocessed metadata\n",
    "    \"\"\"\n",
    "    #if 'section' in metadata:\n",
    "    metadata[\"section_name\"] = get_section_name(metadata[\"section\"])\n",
    "    metadata[\"page\"] = get_pages_string(metadata[\"page\"])\n",
    "    return metadata"
   ]
  },
  {
   "cell_type": "code",
   "execution_count": 6,
   "id": "e5d65b9a",
   "metadata": {},
   "outputs": [],
   "source": [
    "documents = []\n",
    "\n",
    "for learning_chapter in topics:\n",
    "    #print(learning_chapter)\n",
    "    for section in topics[learning_chapter]:\n",
    "        #print(topics[learning_chapter][section])\n",
    "        for document in topics[learning_chapter][section]:\n",
    "            page_content = f\"{document[\"text\"]}\" #Maybe put the section name before the text for more context\n",
    "            #print(page_content)\n",
    "\n",
    "            metadata = preprocess_metadata(document[\"metadata\"])\n",
    "            #print(metadata)\n",
    "            documents.append(Document(page_content=page_content, metadata=metadata))"
   ]
  },
  {
   "cell_type": "markdown",
   "id": "164c3316",
   "metadata": {},
   "source": [
    "## Create embeddings"
   ]
  },
  {
   "cell_type": "code",
   "execution_count": null,
   "id": "ec99680d",
   "metadata": {},
   "outputs": [],
   "source": [
    "# Load environment variables from a .env file\n",
    "load_dotenv()\n",
    "GOOGLE_API = os.getenv('GOOGLE_API_KEY')"
   ]
  },
  {
   "cell_type": "code",
   "execution_count": 8,
   "id": "8e7eefde",
   "metadata": {},
   "outputs": [],
   "source": [
    "from langchain_google_genai import GoogleGenerativeAIEmbeddings\n",
    "\n",
    "#Embedding models: https://ai.google.dev/gemini-api/docs/embeddings#embeddings-models\n",
    "# and https://ai.google.dev/gemini-api/docs/models#text-embedding-and-embedding\n",
    "#embedding = GoogleGenerativeAIEmbeddings(model=\"models/text-embedding-004\", google_api_key=GOOGLE_API)\n",
    "embedding = GoogleGenerativeAIEmbeddings(model=\"models/embedding-001\", google_api_key=GOOGLE_API)\n",
    "\n",
    "# Create a Chroma vector database with Google embeddings\n",
    "#db_google = Chroma.from_documents(documents, embedding, persist_directory=\"./vectordb/google_vectorDB-004\") # for new database\n",
    "db_google = Chroma.from_documents(documents, embedding, persist_directory=\"./vectordb/google_vectorDB-001\") # for new database\n",
    "#db_google = Chroma(persist_directory=\"./vectordb/google_vectorDB\", embedding_function=embedding) # for existing database\n"
   ]
  }
 ],
 "metadata": {
  "kernelspec": {
   "display_name": ".venv",
   "language": "python",
   "name": "python3"
  },
  "language_info": {
   "codemirror_mode": {
    "name": "ipython",
    "version": 3
   },
   "file_extension": ".py",
   "mimetype": "text/x-python",
   "name": "python",
   "nbconvert_exporter": "python",
   "pygments_lexer": "ipython3",
   "version": "3.13.3"
  }
 },
 "nbformat": 4,
 "nbformat_minor": 5
}
