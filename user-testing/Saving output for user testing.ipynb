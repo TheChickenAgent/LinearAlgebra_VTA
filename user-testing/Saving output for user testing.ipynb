{
 "cells": [
  {
   "cell_type": "code",
   "execution_count": 1,
   "id": "7b7305ee",
   "metadata": {},
   "outputs": [],
   "source": [
    "import os\n",
    "from dotenv import load_dotenv\n",
    "from openai import OpenAI\n",
    "from openai.types.responses.response_output_message import ResponseOutputMessage\n",
    "from langchain_openai import OpenAIEmbeddings\n",
    "from langchain_chroma import Chroma\n",
    "import time\n",
    "from google.genai import types\n",
    "import pickle"
   ]
  },
  {
   "cell_type": "code",
   "execution_count": 2,
   "id": "1df33e04",
   "metadata": {},
   "outputs": [],
   "source": [
    "load_dotenv()\n",
    "OPENAI_API = os.getenv('OPENAI_API_KEY')\n",
    "GOOGLE_API = os.getenv('GOOGLE_API_KEY')\n",
    "embedding = OpenAIEmbeddings(model=\"text-embedding-3-large\", openai_api_key=OPENAI_API)\n",
    "db_openai = Chroma(persist_directory=\"./vectordb/openai_vectorDB/\", embedding_function=embedding) #for existing database\n",
    "MODEL_QUESTION_GENERATION = \"o4-mini\"  # Model for question generation"
   ]
  },
  {
   "cell_type": "code",
   "execution_count": 3,
   "id": "748ca5d9",
   "metadata": {},
   "outputs": [],
   "source": [
    "def extract_llm_response_code_interpreter(response: list) -> str:\n",
    "    output = \"\"\n",
    "    #print(response)\n",
    "    #print(len(response))\n",
    "    for index in range(len(response)-1, -1, -1):\n",
    "        if isinstance(response[index], ResponseOutputMessage):\n",
    "            #print(len(response[out].content)) check if this length is 1\n",
    "            #print(f\"Output {index}:\\n{response[index].content[0].text}\")\n",
    "            output = response[index].content[0].text\n",
    "            break #stop after the answer is found\n",
    "    return output"
   ]
  },
  {
   "cell_type": "code",
   "execution_count": 4,
   "id": "6d87447e",
   "metadata": {},
   "outputs": [],
   "source": [
    "def chat_demo(question: str, container_id_manual):\n",
    "\n",
    "    if question==\"\":\n",
    "        print(\"Error: The question is missing.\")\n",
    "    else:\n",
    "        #Setup o4-mini chat and ask it to generate further explanation which we can use for LearnLM\n",
    "        custom_prompt = (\n",
    "            \"You are an assistant for question-answering tasks in linear algebra. \"\n",
    "            \"Your are given a True/False statement. You must include 'True', 'False' or 'I don't know' in your answer. \"\n",
    "            \"If the statement is 'False', a counter-example is sufficient. \"\n",
    "            \"If the statement is 'True', you briefly outline a proof and/or mention relevant theorems. \"\n",
    "            \"If you are not sure, you say 'I don't know'. \"\n",
    "            \"Please format as follows:\\n\"\n",
    "            \"- The question should start with 'Q:' followed by the question text.\\n\"\n",
    "            \"- The explanation should start with 'E:' followed by the explanation text.\\n\"\n",
    "            \"- The answer should start with 'A:' followed by 'True' or 'False'.\\n\"\n",
    "            \"For example:\\n\"\n",
    "            \"Q: The determinant of a matrix is always non-negative.\\n\"\n",
    "            \"E: The determinant can be negative depending on the matrix. For example, $\\\\begin{pmatrix} 1 & 0 \\\\\\\\ 0 & -1 \\\\end{pmatrix}$.\\n\"\n",
    "            \"A: False\\n\"\n",
    "            \"Please use LaTeX formatting for mathematical expressions by writing them between dollar signs.\"\n",
    "            \"For example, to write a matrix, use $\\\\begin{pmatrix} a & b \\\\\\\\ c & d \\\\end{pmatrix}$. \" \n",
    "            \"You can write and run code to answer the question. \"\n",
    "            \"The question is: \" + question + \". \"\n",
    "        )\n",
    "        # Retrieve relevant context from the vector database\n",
    "        retrieved_docs = db_openai.similarity_search(question, k=4)\n",
    "        context = \"\\n\\n\".join(doc.page_content for doc in retrieved_docs)\n",
    "        rag_prompt = (\n",
    "            \"Use the following pieces of retrieved context to answer the question. \"\n",
    "            \"\\n\\nContext:\\n\" + context\n",
    "        )\n",
    "        prompt = custom_prompt + rag_prompt\n",
    "        llm = OpenAI(api_key=OPENAI_API)\n",
    "\n",
    "        try:\n",
    "            response = llm.responses.create(\n",
    "                model=MODEL_QUESTION_GENERATION,\n",
    "                tools=[{\"type\": \"code_interpreter\", \"container\": container_id_manual}],\n",
    "                input=prompt,\n",
    "            )\n",
    "            # Extract the answer from the response\n",
    "            answer_llm = extract_llm_response_code_interpreter(response.output)\n",
    "            print(f\"Answer: {answer_llm}\")\n",
    "            if answer_llm == \"\":\n",
    "                raise ValueError(\"Empty answer received from LLM.\")\n",
    "        except Exception as e:\n",
    "            print(f\"Error generating questions.\\nError: {e}\")\n",
    "\n",
    "        response_content = answer_llm\n",
    "        explanation_lines = []\n",
    "        answer = \"\"\n",
    "        collecting_explanation = False\n",
    "\n",
    "        for line in response_content.split(\"\\n\"):\n",
    "            line = line.strip()\n",
    "            if line.startswith(\"Q:\"):\n",
    "                question = line[2:].strip()\n",
    "                collecting_explanation = False\n",
    "            elif line.startswith(\"E:\"):\n",
    "                explanation_lines.append(line[2:].strip())\n",
    "                collecting_explanation = True\n",
    "            elif line.startswith(\"A:\"):\n",
    "                answer = line[2:].strip().lower() == \"true\"\n",
    "                collecting_explanation = False\n",
    "            elif collecting_explanation:\n",
    "                explanation_lines.append(line)\n",
    "\n",
    "        explanation = \"\\n\".join(explanation_lines)\n",
    "\n",
    "        if explanation == \"\" or answer == \"\":\n",
    "            print(f\"Explanation: {explanation}\")\n",
    "            print(f\"Answer: {answer}\")\n",
    "            print(\"Error: The explanation or answer is missing from the response.\")\n",
    "        #if len(questions) != len(answers) or len(questions) != st.session_state.num_questions_final:\t\n",
    "        #    st.error(\"Error: The number of questions and answers do not match the requested number.\")\n",
    "        time.sleep(1) # Simulate processing time\n",
    "        # Store generated questions and answers in session state\n",
    "        #st.session_state.generated_questions = [\n",
    "        #    {\"question\": q, \"explanation\": e, \"answer\": a} for q, e, a in zip(questions, explanations, answers)\n",
    "        #]\n",
    "\n",
    "        #if \"explanation_demo\" not in st.session_state:\n",
    "            # Store the full explanation, preserving line breaks and LaTeX\n",
    "            #st.session_state[\"explanation_demo\"] = explanation.strip().replace('\\n', ' ')\n",
    "        #print(f\"Space: {'\\n' in explanation}\")\n",
    "\n",
    "        return explanation, answer"
   ]
  },
  {
   "cell_type": "code",
   "execution_count": 5,
   "id": "d100ed50",
   "metadata": {},
   "outputs": [],
   "source": [
    "import re\n",
    "\n",
    "def extract_question_answer(tex_content):\n",
    "    # Extract content within the enumerate environment\n",
    "    enum_match = re.search(r'\\\\begin{enumerate}(.*?)\\\\end{enumerate}', tex_content, re.DOTALL)\n",
    "    if not enum_match:\n",
    "        return [], []\n",
    "    enum_content = enum_match.group(1)\n",
    "\n",
    "    # Find all questions (\\item ... \\begin{solutionorbox})\n",
    "    question_blocks = re.findall(\n",
    "        r'\\\\item(.*?)(?=\\\\begin{solutionorbox})',\n",
    "        enum_content, re.DOTALL\n",
    "    )\n",
    "\n",
    "    # Find all answers (\\begin{solutionorbox} ... \\end{solutionorbox})\n",
    "    answer_blocks = re.findall(\n",
    "        r'\\\\begin{solutionorbox}\\[[^\\]]*\\]\\s*(.*?)\\\\end{solutionorbox}',\n",
    "        enum_content, re.DOTALL\n",
    "    )\n",
    "    questions = [q.strip() for q in question_blocks]\n",
    "    answers = [a.strip() for a in answer_blocks]\n",
    "    return questions, answers"
   ]
  },
  {
   "cell_type": "code",
   "execution_count": 6,
   "id": "8743921f",
   "metadata": {},
   "outputs": [],
   "source": [
    "def read_questions_answers():\n",
    "    # Split out True/False questions\n",
    "    exam_questions_TF = []\n",
    "    exam_answers_TF = []\n",
    "\n",
    "    with open('exams/together2.tex', 'r', encoding='utf-8') as file:\n",
    "        tex_content = file.read()\n",
    "        questions, answers = extract_question_answer(tex_content)\n",
    "        #print(f\"Total Questions: {len(questions)}\")\n",
    "        #print(f\"Total Answers: {len(answers)}\")\n",
    "        if len(questions) != len(answers):\n",
    "            print(\"Warning: The number of questions and answers do not match!\")\n",
    " \n",
    "        #print()\n",
    "        for idx, (q, a) in enumerate(zip(questions, answers), 1):\n",
    "            #print(f\"Question {idx}:\\n{q}\\n\")\n",
    "            #print(f\"Answer {idx}:\\n{a}\\n\")\n",
    "            exam_questions_TF.append(q)\n",
    "            exam_answers_TF.append(a)\n",
    "    return exam_questions_TF, exam_answers_TF"
   ]
  },
  {
   "cell_type": "code",
   "execution_count": 7,
   "id": "127c1bc2",
   "metadata": {},
   "outputs": [],
   "source": [
    "questions, answers = read_questions_answers()"
   ]
  },
  {
   "cell_type": "code",
   "execution_count": 8,
   "id": "22d92bab",
   "metadata": {},
   "outputs": [
    {
     "name": "stdout",
     "output_type": "stream",
     "text": [
      "Creating container for Code Interpreter...\n"
     ]
    }
   ],
   "source": [
    "llm = OpenAI(api_key=OPENAI_API)\n",
    "\n",
    "print(\"Creating container for Code Interpreter...\")\n",
    "cont = llm.containers.create(name=\"test\")\n",
    "container_id_manual = cont.id\n",
    "#st.session_state[\"container_id\"] = container_id_manual"
   ]
  },
  {
   "cell_type": "code",
   "execution_count": 9,
   "id": "3ba303ef",
   "metadata": {},
   "outputs": [],
   "source": [
    "# Full explanation string with LaTeX preserved and line breaks\n",
    "full_explanation = (\n",
    "    \"This is false.  For a counter‐example in $\\\\mathbb R^2$, take  \\n\"\n",
    "    \"\\\\[\\n\"\n",
    "    \"\\\\mathbf{u}=(1,0),\\\\quad \\\\mathbf{v}=(0,1),\\\\quad \\\\mathbf{w}=(1,1).\\n\"\n",
    "    \"\\\\]\\n\"\n",
    "    \"Then neither $\\\\mathbf{u}$ nor $\\\\mathbf{v}$ is a scalar multiple of the other, so $\\\\{\\\\mathbf{u},\\\\mathbf{v}\\\\}$ is independent.  \"\n",
    "    \"Likewise $\\\\{\\\\mathbf{v},\\\\mathbf{w}\\\\}$ is independent.  \"\n",
    "    \"But $\\\\mathbf{w}=\\\\mathbf{u}+\\\\mathbf{v}$, so $\\\\{\\\\mathbf{u},\\\\mathbf{v},\\\\mathbf{w}\\\\}$ is linearly dependent.\"\n",
    ")\n",
    "\n",
    "# Save the full explanation to a file (e.g., as plain text)\n",
    "with open('exams/full_explanation.txt', 'w', encoding='utf-8') as f:\n",
    "    f.write(full_explanation)"
   ]
  },
  {
   "cell_type": "code",
   "execution_count": 10,
   "id": "1d1dea1f",
   "metadata": {},
   "outputs": [
    {
     "name": "stderr",
     "output_type": "stream",
     "text": [
      "  0%|          | 0/8 [00:00<?, ?it/s]"
     ]
    },
    {
     "name": "stdout",
     "output_type": "stream",
     "text": [
      "Answer: Q: If $\\{\\mathbf u,\\mathbf v\\}$ is linearly independent and $\\{\\mathbf v,\\mathbf w\\}$ is linearly independent, then is $\\{\\mathbf u,\\mathbf v,\\mathbf w\\}$ necessarily linearly independent?  \n",
      "E: Counterexample in $\\mathbb R^3$. Let  \n",
      "\\[\n",
      "\\mathbf u=(1,0,0),\\quad \\mathbf v=(0,1,0),\\quad \\mathbf w=(1,1,0).\n",
      "\\]  \n",
      "Then $\\{\\mathbf u,\\mathbf v\\}$ is independent (neither is a multiple of the other), and $\\{\\mathbf v,\\mathbf w\\}$ is independent (again no scalar multiple). However  \n",
      "\\[\n",
      "\\mathbf u+\\mathbf v-\\mathbf w=(1,0,0)+(0,1,0)-(1,1,0)=(0,0,0),\n",
      "\\]  \n",
      "so $\\{\\mathbf u,\\mathbf v,\\mathbf w\\}$ is linearly dependent.  \n",
      "A: False\n"
     ]
    },
    {
     "name": "stderr",
     "output_type": "stream",
     "text": [
      " 12%|█▎        | 1/8 [00:10<01:15, 10.77s/it]"
     ]
    },
    {
     "name": "stdout",
     "output_type": "stream",
     "text": [
      "Answer: Q: Let $\\mathbf{A}$ and $\\mathbf{B}$ be two orthogonal matrices. Then the product $\\mathbf{A}\\mathbf{B}$ is also *always* orthogonal.  \n",
      "E: A matrix $\\mathbf{M}$ is orthogonal if and only if $\\mathbf{M}^T\\mathbf{M}=I$, equivalently $\\mathbf{M}^{-1}=\\mathbf{M}^T$.  Since $\\mathbf{A}$ and $\\mathbf{B}$ are orthogonal,  \n",
      "$\\mathbf{A}^T\\mathbf{A}=I$ and $\\mathbf{B}^T\\mathbf{B}=I$.  Now  \n",
      "\\[\n",
      "(\\mathbf{A}\\mathbf{B})^T(\\mathbf{A}\\mathbf{B})\n",
      "=\\mathbf{B}^T\\mathbf{A}^T\\mathbf{A}\\mathbf{B}\n",
      "=\\mathbf{B}^T I\\,\\mathbf{B}\n",
      "=\\mathbf{B}^T\\mathbf{B}\n",
      "=I.\n",
      "\\]\n",
      "Hence $\\mathbf{A}\\mathbf{B}$ satisfies $(\\mathbf{A}\\mathbf{B})^T(\\mathbf{A}\\mathbf{B})=I$ and is orthogonal.  \n",
      "A: True\n"
     ]
    },
    {
     "name": "stderr",
     "output_type": "stream",
     "text": [
      " 25%|██▌       | 2/8 [00:17<00:50,  8.47s/it]"
     ]
    },
    {
     "name": "stdout",
     "output_type": "stream",
     "text": [
      "Answer: Q: If $\\lambda$ is an eigenvalue of $\\mathbf{A}$, then it is also an eigenvalue of $\\mathbf{A}^\\top$.  \n",
      "E: A scalar $\\lambda$ is an eigenvalue of $A$ iff it satisfies the characteristic equation $\\det(A - \\lambda I)=0$.  Since\n",
      "$$\\det(A^\\top - \\lambda I)=\\det\\bigl((A - \\lambda I)^\\top\\bigr)=\\det(A - \\lambda I),$$\n",
      "the characteristic polynomials of $A$ and $A^\\top$ coincide.  Hence they have the same eigenvalues (with the same algebraic multiplicities).  \n",
      "A: True\n"
     ]
    },
    {
     "name": "stderr",
     "output_type": "stream",
     "text": [
      " 38%|███▊      | 3/8 [00:22<00:34,  6.91s/it]"
     ]
    },
    {
     "name": "stdout",
     "output_type": "stream",
     "text": [
      "Answer: Q: The product of two symmetric matrices is *always* symmetric.  \n",
      "E: For any matrices \\(A,B\\),  \n",
      "\\[\n",
      "(AB)^T = B^T A^T.\n",
      "\\]  \n",
      "If \\(A\\) and \\(B\\) are symmetric then \\(A^T=A\\) and \\(B^T=B\\), so  \n",
      "\\[\n",
      "(AB)^T = BA.\n",
      "\\]  \n",
      "Thus \\(AB\\) is symmetric precisely when \\(AB = BA\\), i.e.\\ when \\(A\\) and \\(B\\) commute.  But symmetric matrices need not commute.  For example, take  \n",
      "\\[\n",
      "A = \\begin{pmatrix}1&0\\\\0&0\\end{pmatrix},\\quad\n",
      "B = \\begin{pmatrix}0&1\\\\1&0\\end{pmatrix}.\n",
      "\\]  \n",
      "Both \\(A\\) and \\(B\\) are symmetric, yet  \n",
      "\\[\n",
      "AB = \\begin{pmatrix}0&1\\\\0&0\\end{pmatrix}\n",
      "\\ne\n",
      "\\begin{pmatrix}0&0\\\\1&0\\end{pmatrix}\n",
      "= BA,\n",
      "\\]  \n",
      "so \\(AB\\) is not symmetric.  \n",
      "A: False\n"
     ]
    },
    {
     "name": "stderr",
     "output_type": "stream",
     "text": [
      " 50%|█████     | 4/8 [00:33<00:33,  8.50s/it]"
     ]
    },
    {
     "name": "stdout",
     "output_type": "stream",
     "text": [
      "Answer: Q: In order to construct an eigenvector basis of \\(\\mathbb{R}^n\\) from a matrix \\(\\mathbf{A}\\), \\(\\mathbf{A}\\) must have \\(n\\) *distinct* eigenvalues.  \n",
      "E: This is not necessary. A matrix is diagonalizable (i.e.\\ admits an eigenvector basis) precisely when the sum of the dimensions of its eigenspaces equals \\(n\\), which can occur even if some eigenvalues repeat.  \n",
      "Counter-example: take \\(\\mathbf{A}=I_n\\).  Its characteristic polynomial is \\((\\lambda-1)^n\\), so it has only one eigenvalue \\(\\lambda=1\\) of algebraic multiplicity \\(n\\), yet its eigenspace is all of \\(\\mathbb{R}^n\\), providing \\(n\\) independent eigenvectors.  \n",
      "A: False\n"
     ]
    },
    {
     "name": "stderr",
     "output_type": "stream",
     "text": [
      " 62%|██████▎   | 5/8 [00:42<00:25,  8.58s/it]"
     ]
    },
    {
     "name": "stdout",
     "output_type": "stream",
     "text": [
      "Answer: Q: The columns of *any* \\(2 \\times 2\\) *rotation* matrix form an orthogonal set.  \n",
      "E: A general \\(2\\times2\\) rotation matrix is  \n",
      "\\[\n",
      "R(\\theta)\n",
      "=\\begin{pmatrix}\n",
      "\\cos\\theta & -\\sin\\theta\\\\\n",
      "\\sin\\theta & \\cos\\theta\n",
      "\\end{pmatrix}.\n",
      "\\]\n",
      "Its columns are \n",
      "\\(\\mathbf{u}=(\\cos\\theta,\\;\\sin\\theta)^T\\) and \n",
      "\\(\\mathbf{v}=(-\\sin\\theta,\\;\\cos\\theta)^T\\).  Their dot product is\n",
      "\\[\n",
      "\\mathbf{u}\\cdot\\mathbf{v}\n",
      "=\\cos\\theta(-\\sin\\theta)+\\sin\\theta(\\cos\\theta)\n",
      "=-\\cos\\theta\\sin\\theta+\\sin\\theta\\cos\\theta\n",
      "=0.\n",
      "\\]\n",
      "Hence \\(\\mathbf{u}\\) and \\(\\mathbf{v}\\) are orthogonal.  Equivalently, since \\(R(\\theta)^T R(\\theta)=I\\), its columns are orthonormal by the theorem \\(U^TU=I\\iff\\) columns of \\(U\\) are orthonormal.  \n",
      "A: True\n"
     ]
    },
    {
     "name": "stderr",
     "output_type": "stream",
     "text": [
      " 75%|███████▌  | 6/8 [00:50<00:17,  8.52s/it]"
     ]
    },
    {
     "name": "stdout",
     "output_type": "stream",
     "text": [
      "Answer: Q: Suppose $\\mathbf{A}$ is an $n\\times n$ symmetric matrix and $\\mathbf{B}$ is *any* $n\\times m$ matrix.  Then $\\mathbf{B}^{T}\\mathbf{A}\\mathbf{B}$ and $\\mathbf{B}^{T}\\mathbf{B}$ are symmetric matrices.  \n",
      "E: \n",
      "- Since $\\mathbf{A}$ is symmetric, $\\mathbf{A}^T=\\mathbf{A}$.  Hence  \n",
      "\\[\n",
      "(\\mathbf{B}^T\\mathbf{A}\\mathbf{B})^T \n",
      "= \\mathbf{B}^T{}^T\\,\\mathbf{A}^T\\,\\mathbf{B}^T\n",
      "= \\mathbf{B}\\,\\mathbf{A}\\,\\mathbf{B}^T\n",
      "= \\mathbf{B}^T\\mathbf{A}\\mathbf{B}\n",
      "\\]\n",
      "because matrix transpose reverses order and $\\mathbf{A}^T=\\mathbf{A}$.  \n",
      "- For any conformable $\\mathbf{B}$,  \n",
      "\\[\n",
      "(\\mathbf{B}^T\\mathbf{B})^T\n",
      "= \\mathbf{B}^T{}^T\\,\\mathbf{B}^T\n",
      "= \\mathbf{B}\\,\\mathbf{B}^T\n",
      "= \\mathbf{B}^T\\mathbf{B},\n",
      "\\]\n",
      "again using the rule $(XY)^T=Y^T X^T$ and the fact that $(\\mathbf{B}^T)^T=\\mathbf{B}$.  \n",
      "Thus both products equal their own transposes.  \n",
      "A: True\n"
     ]
    },
    {
     "name": "stderr",
     "output_type": "stream",
     "text": [
      " 88%|████████▊ | 7/8 [01:06<00:10, 10.93s/it]"
     ]
    },
    {
     "name": "stdout",
     "output_type": "stream",
     "text": [
      "Answer: Q: Every orthogonal set in $\\mathbb{R}^n$ is linearly independent.  \n",
      "E: The standard theorem requires that an orthogonal set consist of nonzero vectors. But if we allow the zero vector, an “orthogonal set” need not be independent, since $0\\cdot v=0$ for all $v$.  \n",
      "Counter-example: $\\{0,e_1\\}$ is orthogonal (since $0\\cdot e_1=0$) but linearly dependent (because $1\\cdot 0+0\\cdot e_1=0$ is a nontrivial relation).  \n",
      "A: False\n"
     ]
    },
    {
     "name": "stderr",
     "output_type": "stream",
     "text": [
      "100%|██████████| 8/8 [01:16<00:00,  9.57s/it]\n"
     ]
    }
   ],
   "source": [
    "from tqdm import tqdm\n",
    "\n",
    "llm_explanations = []\n",
    "llm_answers = []\n",
    "\n",
    "\n",
    "for question in tqdm(questions):\n",
    "    # Remove LaTeX bold formatting\n",
    "    question = question.replace(\"\\\\textbf{always}\", \"*always*\")  \n",
    "    question = question.replace(\"\\\\textbf{Every}\", \"*Every*\")\n",
    "    question = question.replace(\"\\\\textbf{any}\", \"*any*\")\n",
    "    question = question.replace(\"\\\\textbf{rotation}\", \"*rotation*\")\n",
    "    question = question.replace(\"\\\\textbf{distinct}\", \"*distinct*\")\n",
    "\n",
    "    expl, ans = chat_demo(question, container_id_manual)\n",
    "    llm_explanations.append(expl)\n",
    "    llm_answers.append(ans)"
   ]
  },
  {
   "cell_type": "code",
   "execution_count": null,
   "id": "49903ff1",
   "metadata": {},
   "outputs": [
    {
     "name": "stdout",
     "output_type": "stream",
     "text": [
      "Answer: Q: Suppose $\\mathbf{A}$ is an $n\\times n$ symmetric matrix and $\\mathbf{B}$ is any $n\\times m$ matrix.  Then $\\mathbf{B}^\\mathsf{T}\\mathbf{A}\\mathbf{B}$ and $\\mathbf{B}^\\mathsf{T}\\mathbf{B}$ are symmetric matrices.  \n",
      "E: We use the fact that $(XY)^\\mathsf{T}=Y^\\mathsf{T}X^\\mathsf{T}$ and that $\\mathbf{A}^\\mathsf{T}=\\mathbf{A}$.  Then  \n",
      "\\[\n",
      "(\\mathbf{B}^\\mathsf{T}\\mathbf{A}\\mathbf{B})^\\mathsf{T}\n",
      "=\\mathbf{B}^\\mathsf{T}\\mathbf{A}^\\mathsf{T}\\mathbf{B}\n",
      "=\\mathbf{B}^\\mathsf{T}\\mathbf{A}\\mathbf{B},\n",
      "\\]\n",
      "so $\\mathbf{B}^\\mathsf{T}\\mathbf{A}\\mathbf{B}$ is symmetric.  Similarly,  \n",
      "\\[\n",
      "(\\mathbf{B}^\\mathsf{T}\\mathbf{B})^\\mathsf{T}\n",
      "=\\mathbf{B}^\\mathsf{T}\\mathbf{B},\n",
      "\\]\n",
      "so $\\mathbf{B}^\\mathsf{T}\\mathbf{B}$ is symmetric.  \n",
      "A: True\n"
     ]
    }
   ],
   "source": [
    "if False:\n",
    "\n",
    "    temp_q = questions[-2]\n",
    "    temp_q = temp_q.replace(\"\\\\textbf{always}\", \"*always*\")  \n",
    "    temp_q = temp_q.replace(\"\\\\textbf{Every}\", \"*Every*\")\n",
    "    temp_q = temp_q.replace(\"\\\\textbf{any}\", \"*any*\")\n",
    "    temp_q = temp_q.replace(\"\\\\textbf{rotation}\", \"*rotation*\")\n",
    "    temp_q = temp_q.replace(\"\\\\textbf{distinct}\", \"*distinct*\")\n",
    "\n",
    "    expl, ans = chat_demo(temp_q, container_id_manual)\n",
    "    llm_explanations[-2] = expl\n",
    "    llm_answers[-2] = ans\n",
    "\n",
    "    #llm_explanations.append(expl)\n",
    "    #llm_answers.append(ans)"
   ]
  },
  {
   "cell_type": "code",
   "execution_count": 12,
   "id": "1b741621",
   "metadata": {},
   "outputs": [
    {
     "name": "stdout",
     "output_type": "stream",
     "text": [
      "The standard theorem requires that an orthogonal set consist of nonzero vectors. But if we allow the zero vector, an “orthogonal set” need not be independent, since $0\\cdot v=0$ for all $v$.\n",
      "Counter-example: $\\{0,e_1\\}$ is orthogonal (since $0\\cdot e_1=0$) but linearly dependent (because $1\\cdot 0+0\\cdot e_1=0$ is a nontrivial relation).\n"
     ]
    }
   ],
   "source": [
    "print(expl)"
   ]
  },
  {
   "cell_type": "code",
   "execution_count": 13,
   "id": "1a3d7749",
   "metadata": {},
   "outputs": [
    {
     "data": {
      "text/plain": [
       "(8, 8)"
      ]
     },
     "execution_count": 13,
     "metadata": {},
     "output_type": "execute_result"
    }
   ],
   "source": [
    "len(llm_explanations), len(llm_answers)"
   ]
  },
  {
   "cell_type": "code",
   "execution_count": 14,
   "id": "46c0bc74",
   "metadata": {},
   "outputs": [],
   "source": [
    "#llm_explanations_clean = [expl.strip().replace('\\n', ' ') for expl in llm_explanations]"
   ]
  },
  {
   "cell_type": "code",
   "execution_count": 15,
   "id": "f8d67681",
   "metadata": {},
   "outputs": [
    {
     "data": {
      "text/plain": [
       "'\\n- Since $\\\\mathbf{A}$ is symmetric, $\\\\mathbf{A}^T=\\\\mathbf{A}$.  Hence\\n\\\\[\\n(\\\\mathbf{B}^T\\\\mathbf{A}\\\\mathbf{B})^T\\n= \\\\mathbf{B}^T{}^T\\\\,\\\\mathbf{A}^T\\\\,\\\\mathbf{B}^T\\n= \\\\mathbf{B}\\\\,\\\\mathbf{A}\\\\,\\\\mathbf{B}^T\\n= \\\\mathbf{B}^T\\\\mathbf{A}\\\\mathbf{B}\\n\\\\]\\nbecause matrix transpose reverses order and $\\\\mathbf{A}^T=\\\\mathbf{A}$.\\n- For any conformable $\\\\mathbf{B}$,\\n\\\\[\\n(\\\\mathbf{B}^T\\\\mathbf{B})^T\\n= \\\\mathbf{B}^T{}^T\\\\,\\\\mathbf{B}^T\\n= \\\\mathbf{B}\\\\,\\\\mathbf{B}^T\\n= \\\\mathbf{B}^T\\\\mathbf{B},\\n\\\\]\\nagain using the rule $(XY)^T=Y^T X^T$ and the fact that $(\\\\mathbf{B}^T)^T=\\\\mathbf{B}$.\\nThus both products equal their own transposes.'"
      ]
     },
     "execution_count": 15,
     "metadata": {},
     "output_type": "execute_result"
    }
   ],
   "source": [
    "llm_explanations[-2]"
   ]
  },
  {
   "cell_type": "code",
   "execution_count": 17,
   "id": "f82f4967",
   "metadata": {},
   "outputs": [],
   "source": [
    "data = {\"explanations\": llm_explanations, \"answers\": llm_answers}\n",
    "with open('exams/together2_llm_state.pkl', 'wb') as f:\n",
    "    pickle.dump(data, f)"
   ]
  },
  {
   "cell_type": "code",
   "execution_count": 19,
   "id": "245e7393",
   "metadata": {},
   "outputs": [
    {
     "data": {
      "text/plain": [
       "False"
      ]
     },
     "execution_count": 19,
     "metadata": {},
     "output_type": "execute_result"
    }
   ],
   "source": [
    "exa = pickle.load(open('exams/together2_llm_state.pkl', 'rb'))\n",
    "exa[\"answers\"][0]"
   ]
  }
 ],
 "metadata": {
  "kernelspec": {
   "display_name": ".venv",
   "language": "python",
   "name": "python3"
  },
  "language_info": {
   "codemirror_mode": {
    "name": "ipython",
    "version": 3
   },
   "file_extension": ".py",
   "mimetype": "text/x-python",
   "name": "python",
   "nbconvert_exporter": "python",
   "pygments_lexer": "ipython3",
   "version": "3.13.3"
  }
 },
 "nbformat": 4,
 "nbformat_minor": 5
}
