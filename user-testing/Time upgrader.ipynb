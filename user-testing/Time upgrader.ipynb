{
 "cells": [
  {
   "cell_type": "markdown",
   "id": "51335e57",
   "metadata": {},
   "source": [
    "# Upgrade time\n",
    "Simple notebook to upgrade the time as the chats were done on a server on UTC, so we need +2 for Amsterdam timezone"
   ]
  },
  {
   "cell_type": "code",
   "execution_count": 3,
   "id": "956f0ca8",
   "metadata": {},
   "outputs": [],
   "source": [
    "import os\n",
    "import pickle\n",
    "from datetime import timedelta\n",
    "import re\n",
    "\n",
    "base_dir = 'data'\n",
    "for subfolder in os.listdir(base_dir):\n",
    "    subfolder_path = os.path.join(base_dir, subfolder)\n",
    "    if os.path.isdir(subfolder_path):\n",
    "        for filename in os.listdir(subfolder_path):\n",
    "            if filename.endswith('.pkl'):\n",
    "                file_path = os.path.join(subfolder_path, filename)\n",
    "                with open(file_path, 'rb') as f:\n",
    "                    data = pickle.load(f)\n",
    "                # Add subfolder name as a key\n",
    "                data[\"device\"] = subfolder\n",
    "                # Add 2 hours to timestamps as the experiments were run in UTC+2\n",
    "                data['timestamp_begin'] += timedelta(hours=2)\n",
    "                data['timestamp_saved'] += timedelta(hours=2)\n",
    "                # Change filename to \"data yyyy-mm-dd hh_mm_ss.pkl\" based on new timestamp\n",
    "                # Parse the original filename to extract the datetime part\n",
    "                match = re.match(r\"data (\\d{4}-\\d{2}-\\d{2}) (\\d{2})_(\\d{2})_(\\d{2})\\.pkl\", filename)\n",
    "                if match:\n",
    "                    date_str, hour, minute, second = match.groups()\n",
    "                    # Add 2 hours to the hour part and handle overflow if we go above 23\n",
    "                    new_hour = (int(hour) + 2) % 24\n",
    "                    new_filename = f\"data {date_str} {new_hour:02d}_{minute}_{second}.pkl\"\n",
    "                new_file_path = os.path.join(base_dir, new_filename)\n",
    "                with open(new_file_path, 'wb') as f:\n",
    "                    pickle.dump(data, f)"
   ]
  }
 ],
 "metadata": {
  "kernelspec": {
   "display_name": ".venv",
   "language": "python",
   "name": "python3"
  },
  "language_info": {
   "codemirror_mode": {
    "name": "ipython",
    "version": 3
   },
   "file_extension": ".py",
   "mimetype": "text/x-python",
   "name": "python",
   "nbconvert_exporter": "python",
   "pygments_lexer": "ipython3",
   "version": "3.13.3"
  }
 },
 "nbformat": 4,
 "nbformat_minor": 5
}
